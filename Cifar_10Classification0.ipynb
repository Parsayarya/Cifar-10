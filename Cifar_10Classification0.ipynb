{
  "nbformat": 4,
  "nbformat_minor": 0,
  "metadata": {
    "colab": {
      "name": "Cifar-10Classification0.ipynb",
      "provenance": [],
      "collapsed_sections": [],
      "authorship_tag": "ABX9TyNgqPMxAJpqhW5iJ6m4PNHR",
      "include_colab_link": true
    },
    "kernelspec": {
      "name": "python3",
      "display_name": "Python 3"
    },
    "language_info": {
      "name": "python"
    },
    "accelerator": "GPU"
  },
  "cells": [
    {
      "cell_type": "markdown",
      "metadata": {
        "id": "view-in-github",
        "colab_type": "text"
      },
      "source": [
        "<a href=\"https://colab.research.google.com/github/Parsayarya/Cifar-10/blob/main/Cifar_10Classification0.ipynb\" target=\"_parent\"><img src=\"https://colab.research.google.com/assets/colab-badge.svg\" alt=\"Open In Colab\"/></a>"
      ]
    },
    {
      "cell_type": "code",
      "execution_count": null,
      "metadata": {
        "id": "sXGJo97cgz5u"
      },
      "outputs": [],
      "source": [
        "import numpy as np\n",
        "import tensorflow as tf\n",
        "import matplotlib.pyplot as plt\n",
        "from tensorflow.keras.layers import Input, Conv2D, Dense, Flatten, Dropout\n",
        "from tensorflow.keras.layers import GlobalMaxPooling2D, MaxPooling2D\n",
        "from tensorflow.keras.layers import BatchNormalization\n",
        "from tensorflow.keras.models import Model"
      ]
    },
    {
      "cell_type": "code",
      "source": [
        "cifar10 = tf.keras.datasets.cifar10\n",
        "(x_train, y_train), (x_test, y_test) = cifar10.load_data()\n",
        "print(x_train.shape, y_train.shape, x_test.shape, y_test.shape)"
      ],
      "metadata": {
        "colab": {
          "base_uri": "https://localhost:8080/"
        },
        "id": "U0EU-1tYhDJW",
        "outputId": "07acf0ab-b856-44f9-dc95-98919d7a5498"
      },
      "execution_count": null,
      "outputs": [
        {
          "output_type": "stream",
          "name": "stdout",
          "text": [
            "Downloading data from https://www.cs.toronto.edu/~kriz/cifar-10-python.tar.gz\n",
            "170500096/170498071 [==============================] - 3s 0us/step\n",
            "170508288/170498071 [==============================] - 3s 0us/step\n",
            "(50000, 32, 32, 3) (50000, 1) (10000, 32, 32, 3) (10000, 1)\n"
          ]
        }
      ]
    },
    {
      "cell_type": "code",
      "source": [
        "x_train, x_test = x_train / 255.0, x_test / 255.0\n",
        "y_train, y_test = y_train.flatten(), y_test.flatten()\n",
        "print(x_train.shape, y_train.shape, x_test.shape, y_test.shape)"
      ],
      "metadata": {
        "colab": {
          "base_uri": "https://localhost:8080/"
        },
        "id": "O9soz4FVhLgv",
        "outputId": "70bca19a-5cfc-4b64-b5c2-316a57664cf1"
      },
      "execution_count": null,
      "outputs": [
        {
          "output_type": "stream",
          "name": "stdout",
          "text": [
            "(50000, 32, 32, 3) (50000,) (10000, 32, 32, 3) (10000,)\n"
          ]
        }
      ]
    },
    {
      "cell_type": "code",
      "source": [
        "fig, ax = plt.subplots(2, 2)\n",
        "k = 0\n",
        " \n",
        "for i in range(2):\n",
        "    for j in range(2):\n",
        "        ax[i][j].imshow(x_train[k], aspect='auto')\n",
        "        k += 1\n",
        " \n",
        "plt.show()"
      ],
      "metadata": {
        "colab": {
          "base_uri": "https://localhost:8080/",
          "height": 268
        },
        "id": "OnW85GJwi0gO",
        "outputId": "23be6ca5-d19a-497d-f0ba-66f48701fa2b"
      },
      "execution_count": null,
      "outputs": [
        {
          "output_type": "display_data",
          "data": {
            "image/png": "[encoded data removed]",
            "text/plain": [
              "<Figure size 432x288 with 4 Axes>"
            ]
          },
          "metadata": {
            "needs_background": "light"
          }
        }
      ]
    },
    {
      "cell_type": "code",
      "source": [
        "# number of classes\n",
        "K = len(set(y_train))\n",
        " \n",
        "# calculate total number of classes\n",
        "# for output layer\n",
        "print(\"number of classes:\", K)\n",
        " \n",
        "# Build the model using the functional API\n",
        "# input layer\n",
        "i = Input(shape=x_train[0].shape)\n",
        "x = Conv2D(32, (3, 3), activation='relu', padding='same')(i)\n",
        "x = BatchNormalization()(x)\n",
        "x = Conv2D(32, (3, 3), activation='relu', padding='same')(x)\n",
        "x = BatchNormalization()(x)\n",
        "x = MaxPooling2D((2, 2))(x)\n",
        " \n",
        "x = Conv2D(64, (3, 3), activation='relu', padding='same')(x)\n",
        "x = BatchNormalization()(x)\n",
        "x = Conv2D(64, (3, 3), activation='relu', padding='same')(x)\n",
        "x = BatchNormalization()(x)\n",
        "x = MaxPooling2D((2, 2))(x)\n",
        "\n",
        "x = Conv2D(128, (3, 3), activation='relu', padding='same')(x)\n",
        "x = BatchNormalization()(x)\n",
        "x = Conv2D(128, (3, 3), activation='relu', padding='same')(x)\n",
        "x = BatchNormalization()(x)\n",
        "x = MaxPooling2D((2, 2))(x)\n",
        " \n",
        "x = Flatten()(x)\n",
        "x = Dropout(0.2)(x)\n",
        " \n",
        "# Hidden layer\n",
        "x = Dense(1024, activation='relu')(x)\n",
        "x = Dropout(0.2)(x)\n",
        " \n",
        "# last hidden layer i.e.. output layer\n",
        "x = Dense(K, activation='softmax')(x)\n",
        " \n",
        "model = Model(i, x)\n",
        " \n",
        "# model description\n",
        "model.summary()"
      ],
      "metadata": {
        "colab": {
          "base_uri": "https://localhost:8080/"
        },
        "id": "TRR1mTybjAkf",
        "outputId": "02248d7e-0b74-44d0-db6d-2896713b7a02"
      },
      "execution_count": null,
      "outputs": [
        {
          "output_type": "stream",
          "name": "stdout",
          "text": [
            "number of classes: 10\n",
            "Model: \"model\"\n",
            "_________________________________________________________________\n",
            " Layer (type)                Output Shape              Param #   \n",
            "=================================================================\n",
            " input_1 (InputLayer)        [(None, 32, 32, 3)]       0         \n",
            "                                                                 \n",
            " conv2d (Conv2D)             (None, 32, 32, 32)        896       \n",
            "                                                                 \n",
            " batch_normalization (BatchN  (None, 32, 32, 32)       128       \n",
            " ormalization)                                                   \n",
            "                                                                 \n",
            " conv2d_1 (Conv2D)           (None, 32, 32, 32)        9248      \n",
            "                                                                 \n",
            " batch_normalization_1 (Batc  (None, 32, 32, 32)       128       \n",
            " hNormalization)                                                 \n",
            "                                                                 \n",
            " max_pooling2d (MaxPooling2D  (None, 16, 16, 32)       0         \n",
            " )                                                               \n",
            "                                                                 \n",
            " conv2d_2 (Conv2D)           (None, 16, 16, 64)        18496     \n",
            "                                                                 \n",
            " batch_normalization_2 (Batc  (None, 16, 16, 64)       256       \n",
            " hNormalization)                                                 \n",
            "                                                                 \n",
            " conv2d_3 (Conv2D)           (None, 16, 16, 64)        36928     \n",
            "                                                                 \n",
            " batch_normalization_3 (Batc  (None, 16, 16, 64)       256       \n",
            " hNormalization)                                                 \n",
            "                                                                 \n",
            " max_pooling2d_1 (MaxPooling  (None, 8, 8, 64)         0         \n",
            " 2D)                                                             \n",
            "                                                                 \n",
            " conv2d_4 (Conv2D)           (None, 8, 8, 128)         73856     \n",
            "                                                                 \n",
            " batch_normalization_4 (Batc  (None, 8, 8, 128)        512       \n",
            " hNormalization)                                                 \n",
            "                                                                 \n",
            " conv2d_5 (Conv2D)           (None, 8, 8, 128)         147584    \n",
            "                                                                 \n",
            " batch_normalization_5 (Batc  (None, 8, 8, 128)        512       \n",
            " hNormalization)                                                 \n",
            "                                                                 \n",
            " max_pooling2d_2 (MaxPooling  (None, 4, 4, 128)        0         \n",
            " 2D)                                                             \n",
            "                                                                 \n",
            " flatten (Flatten)           (None, 2048)              0         \n",
            "                                                                 \n",
            " dropout (Dropout)           (None, 2048)              0         \n",
            "                                                                 \n",
            " dense (Dense)               (None, 1024)              2098176   \n",
            "                                                                 \n",
            " dropout_1 (Dropout)         (None, 1024)              0         \n",
            "                                                                 \n",
            " dense_1 (Dense)             (None, 10)                10250     \n",
            "                                                                 \n",
            "=================================================================\n",
            "Total params: 2,397,226\n",
            "Trainable params: 2,396,330\n",
            "Non-trainable params: 896\n",
            "_________________________________________________________________\n"
          ]
        }
      ]
    },
    {
      "cell_type": "code",
      "source": [
        "model.compile(optimizer = 'adam',loss=\"sparse_categorical_crossentropy\",metrics=[\"accuracy\"])"
      ],
      "metadata": {
        "id": "WKyj-_eBlGkZ"
      },
      "execution_count": null,
      "outputs": []
    },
    {
      "cell_type": "code",
      "source": [
        "tf.test.gpu_device_name()"
      ],
      "metadata": {
        "colab": {
          "base_uri": "https://localhost:8080/",
          "height": 35
        },
        "id": "QkJu_GxPpCib",
        "outputId": "d4e3e161-63fa-49dc-c5aa-51f87cfaca14"
      },
      "execution_count": null,
      "outputs": [
        {
          "output_type": "execute_result",
          "data": {
            "application/vnd.google.colaboratory.intrinsic+json": {
              "type": "string"
            },
            "text/plain": [
              "'/device:GPU:0'"
            ]
          },
          "metadata": {},
          "execution_count": 7
        }
      ]
    },
    {
      "cell_type": "code",
      "source": [
        "r = model.fit(\n",
        "  x_train, y_train, validation_data=(x_test, y_test), epochs=50)"
      ],
      "metadata": {
        "colab": {
          "base_uri": "https://localhost:8080/"
        },
        "id": "scTaniKZl5H6",
        "outputId": "47eb5e21-8c1e-420c-9310-b444be5861e1"
      },
      "execution_count": null,
      "outputs": [
        {
          "output_type": "stream",
          "name": "stdout",
          "text": [
            "Epoch 1/50\n",
            "1563/1563 [==============================] - 39s 25ms/step - loss: 1.0874 - accuracy: 0.6193 - val_loss: 1.1449 - val_accuracy: 0.6178\n",
            "Epoch 2/50\n",
            "1563/1563 [==============================] - 37s 24ms/step - loss: 0.8097 - accuracy: 0.7193 - val_loss: 1.4647 - val_accuracy: 0.5993\n",
            "Epoch 3/50\n",
            "1563/1563 [==============================] - 37s 23ms/step - loss: 0.6638 - accuracy: 0.7731 - val_loss: 0.7567 - val_accuracy: 0.7435\n",
            "Epoch 4/50\n",
            "1563/1563 [==============================] - 36s 23ms/step - loss: 0.5569 - accuracy: 0.8103 - val_loss: 0.6927 - val_accuracy: 0.7715\n",
            "Epoch 5/50\n",
            "1563/1563 [==============================] - 36s 23ms/step - loss: 0.4772 - accuracy: 0.8366 - val_loss: 0.6466 - val_accuracy: 0.7865\n",
            "Epoch 6/50\n",
            "1563/1563 [==============================] - 36s 23ms/step - loss: 0.4026 - accuracy: 0.8624 - val_loss: 0.6331 - val_accuracy: 0.7979\n",
            "Epoch 7/50\n",
            "1563/1563 [==============================] - 36s 23ms/step - loss: 0.3391 - accuracy: 0.8834 - val_loss: 0.6154 - val_accuracy: 0.8071\n",
            "Epoch 8/50\n",
            "1563/1563 [==============================] - 37s 24ms/step - loss: 0.2870 - accuracy: 0.9014 - val_loss: 0.6338 - val_accuracy: 0.8075\n",
            "Epoch 9/50\n",
            "1563/1563 [==============================] - 38s 24ms/step - loss: 0.2464 - accuracy: 0.9153 - val_loss: 0.6181 - val_accuracy: 0.8258\n",
            "Epoch 10/50\n",
            "1563/1563 [==============================] - 37s 24ms/step - loss: 0.2142 - accuracy: 0.9256 - val_loss: 0.7400 - val_accuracy: 0.8022\n",
            "Epoch 11/50\n",
            "1563/1563 [==============================] - 38s 24ms/step - loss: 0.1840 - accuracy: 0.9367 - val_loss: 0.6914 - val_accuracy: 0.8292\n",
            "Epoch 12/50\n",
            "1563/1563 [==============================] - 38s 24ms/step - loss: 0.1719 - accuracy: 0.9411 - val_loss: 0.7207 - val_accuracy: 0.8240\n",
            "Epoch 13/50\n",
            "1563/1563 [==============================] - 37s 24ms/step - loss: 0.1519 - accuracy: 0.9476 - val_loss: 0.6916 - val_accuracy: 0.8281\n",
            "Epoch 14/50\n",
            "1563/1563 [==============================] - 37s 24ms/step - loss: 0.1414 - accuracy: 0.9516 - val_loss: 0.7598 - val_accuracy: 0.8160\n",
            "Epoch 15/50\n",
            "1563/1563 [==============================] - 37s 24ms/step - loss: 0.1302 - accuracy: 0.9563 - val_loss: 0.6874 - val_accuracy: 0.8316\n",
            "Epoch 16/50\n",
            "1563/1563 [==============================] - 37s 24ms/step - loss: 0.1211 - accuracy: 0.9600 - val_loss: 0.7485 - val_accuracy: 0.8289\n",
            "Epoch 17/50\n",
            "1563/1563 [==============================] - 37s 24ms/step - loss: 0.1132 - accuracy: 0.9618 - val_loss: 0.8624 - val_accuracy: 0.8120\n",
            "Epoch 18/50\n",
            "1563/1563 [==============================] - 38s 24ms/step - loss: 0.1054 - accuracy: 0.9655 - val_loss: 0.7415 - val_accuracy: 0.8323\n",
            "Epoch 19/50\n",
            "1563/1563 [==============================] - 37s 24ms/step - loss: 0.0970 - accuracy: 0.9678 - val_loss: 0.7638 - val_accuracy: 0.8297\n",
            "Epoch 20/50\n",
            "1563/1563 [==============================] - 37s 24ms/step - loss: 0.0961 - accuracy: 0.9679 - val_loss: 0.7217 - val_accuracy: 0.8343\n",
            "Epoch 21/50\n",
            "1563/1563 [==============================] - 37s 24ms/step - loss: 0.0900 - accuracy: 0.9706 - val_loss: 0.7398 - val_accuracy: 0.8302\n",
            "Epoch 22/50\n",
            "1563/1563 [==============================] - 38s 24ms/step - loss: 0.0887 - accuracy: 0.9709 - val_loss: 0.8246 - val_accuracy: 0.8190\n",
            "Epoch 23/50\n",
            "1563/1563 [==============================] - 37s 24ms/step - loss: 0.0822 - accuracy: 0.9737 - val_loss: 0.6905 - val_accuracy: 0.8412\n",
            "Epoch 24/50\n",
            "1563/1563 [==============================] - 37s 24ms/step - loss: 0.0774 - accuracy: 0.9752 - val_loss: 0.8567 - val_accuracy: 0.8374\n",
            "Epoch 25/50\n",
            "1563/1563 [==============================] - 37s 24ms/step - loss: 0.0726 - accuracy: 0.9757 - val_loss: 0.8216 - val_accuracy: 0.8343\n",
            "Epoch 26/50\n",
            "1563/1563 [==============================] - 38s 24ms/step - loss: 0.0718 - accuracy: 0.9765 - val_loss: 0.7908 - val_accuracy: 0.8350\n",
            "Epoch 27/50\n",
            "1563/1563 [==============================] - 37s 24ms/step - loss: 0.0715 - accuracy: 0.9763 - val_loss: 0.7748 - val_accuracy: 0.8287\n",
            "Epoch 28/50\n",
            "1563/1563 [==============================] - 37s 24ms/step - loss: 0.0633 - accuracy: 0.9789 - val_loss: 0.7849 - val_accuracy: 0.8331\n",
            "Epoch 29/50\n",
            "1563/1563 [==============================] - 38s 24ms/step - loss: 0.0653 - accuracy: 0.9784 - val_loss: 0.7911 - val_accuracy: 0.8384\n",
            "Epoch 30/50\n",
            "1563/1563 [==============================] - 37s 24ms/step - loss: 0.0667 - accuracy: 0.9783 - val_loss: 0.8056 - val_accuracy: 0.8406\n",
            "Epoch 31/50\n",
            "1563/1563 [==============================] - 37s 24ms/step - loss: 0.0593 - accuracy: 0.9801 - val_loss: 0.8044 - val_accuracy: 0.8388\n",
            "Epoch 32/50\n",
            "1563/1563 [==============================] - 37s 24ms/step - loss: 0.0629 - accuracy: 0.9796 - val_loss: 0.7124 - val_accuracy: 0.8399\n",
            "Epoch 33/50\n",
            "1563/1563 [==============================] - 37s 24ms/step - loss: 0.0538 - accuracy: 0.9820 - val_loss: 0.8405 - val_accuracy: 0.8429\n",
            "Epoch 34/50\n",
            "1563/1563 [==============================] - 37s 24ms/step - loss: 0.0566 - accuracy: 0.9819 - val_loss: 0.8049 - val_accuracy: 0.8415\n",
            "Epoch 35/50\n",
            "1563/1563 [==============================] - 38s 24ms/step - loss: 0.0518 - accuracy: 0.9828 - val_loss: 0.8444 - val_accuracy: 0.8391\n",
            "Epoch 36/50\n",
            "1563/1563 [==============================] - 37s 24ms/step - loss: 0.0541 - accuracy: 0.9821 - val_loss: 0.8305 - val_accuracy: 0.8391\n",
            "Epoch 37/50\n",
            "1563/1563 [==============================] - 37s 24ms/step - loss: 0.0502 - accuracy: 0.9845 - val_loss: 0.7747 - val_accuracy: 0.8440\n",
            "Epoch 38/50\n",
            "1563/1563 [==============================] - 37s 24ms/step - loss: 0.0487 - accuracy: 0.9846 - val_loss: 0.8473 - val_accuracy: 0.8429\n",
            "Epoch 39/50\n",
            "1563/1563 [==============================] - 38s 24ms/step - loss: 0.0478 - accuracy: 0.9846 - val_loss: 0.8593 - val_accuracy: 0.8366\n",
            "Epoch 40/50\n",
            "1563/1563 [==============================] - 38s 24ms/step - loss: 0.0505 - accuracy: 0.9842 - val_loss: 0.8890 - val_accuracy: 0.8388\n",
            "Epoch 41/50\n",
            "1563/1563 [==============================] - 37s 24ms/step - loss: 0.0482 - accuracy: 0.9847 - val_loss: 0.8566 - val_accuracy: 0.8442\n",
            "Epoch 42/50\n",
            "1563/1563 [==============================] - 37s 24ms/step - loss: 0.0464 - accuracy: 0.9852 - val_loss: 0.8173 - val_accuracy: 0.8409\n",
            "Epoch 43/50\n",
            "1563/1563 [==============================] - 38s 24ms/step - loss: 0.0411 - accuracy: 0.9865 - val_loss: 0.7723 - val_accuracy: 0.8352\n",
            "Epoch 44/50\n",
            "1563/1563 [==============================] - 38s 24ms/step - loss: 0.0463 - accuracy: 0.9854 - val_loss: 0.8367 - val_accuracy: 0.8387\n",
            "Epoch 45/50\n",
            "1563/1563 [==============================] - 38s 24ms/step - loss: 0.0459 - accuracy: 0.9855 - val_loss: 0.8530 - val_accuracy: 0.8396\n",
            "Epoch 46/50\n",
            "1563/1563 [==============================] - 38s 24ms/step - loss: 0.0426 - accuracy: 0.9865 - val_loss: 0.8690 - val_accuracy: 0.8418\n",
            "Epoch 47/50\n",
            "1563/1563 [==============================] - 38s 24ms/step - loss: 0.0425 - accuracy: 0.9867 - val_loss: 0.8335 - val_accuracy: 0.8376\n",
            "Epoch 48/50\n",
            "1563/1563 [==============================] - 38s 24ms/step - loss: 0.0399 - accuracy: 0.9871 - val_loss: 0.9762 - val_accuracy: 0.8448\n",
            "Epoch 49/50\n",
            "1563/1563 [==============================] - 38s 24ms/step - loss: 0.0449 - accuracy: 0.9861 - val_loss: 0.9290 - val_accuracy: 0.8437\n",
            "Epoch 50/50\n",
            "1563/1563 [==============================] - 38s 24ms/step - loss: 0.0410 - accuracy: 0.9873 - val_loss: 0.8592 - val_accuracy: 0.8441\n"
          ]
        }
      ]
    },
    {
      "cell_type": "code",
      "source": [
        "plt.plot(r.history['accuracy'], label='acc', color='red')\n",
        "plt.plot(r.history['loss'],label=\"loss\",color=\"blue\")\n",
        "plt.legend()"
      ],
      "metadata": {
        "colab": {
          "base_uri": "https://localhost:8080/",
          "height": 282
        },
        "id": "uOKtOHd-xAbm",
        "outputId": "0746c4b4-e70e-4455-a502-61e3ac41ce6a"
      },
      "execution_count": null,
      "outputs": [
        {
          "output_type": "execute_result",
          "data": {
            "text/plain": [
              "<matplotlib.legend.Legend at 0x7feaf4e15b90>"
            ]
          },
          "metadata": {},
          "execution_count": 11
        },
        {
          "output_type": "display_data",
          "data": {
            "image/png": "[encoded data removed]",
            "text/plain": [
              "<Figure size 432x288 with 1 Axes>"
            ]
          },
          "metadata": {
            "needs_background": "light"
          }
        }
      ]
    },
    {
      "cell_type": "code",
      "source": [
        "plt.plot(r.history['val_loss'],label=\"val_loss\",color=\"cyan\")\n",
        "plt.plot(r.history['val_accuracy'], label='val_acc', color='green')\n",
        "plt.show()"
      ],
      "metadata": {
        "colab": {
          "base_uri": "https://localhost:8080/",
          "height": 265
        },
        "id": "JIK2y0clxgf5",
        "outputId": "0a92b000-2b7a-4090-b186-d04960c08b75"
      },
      "execution_count": null,
      "outputs": [
        {
          "output_type": "display_data",
          "data": {
            "image/png": "[encoded data removed]",
            "text/plain": [
              "<Figure size 432x288 with 1 Axes>"
            ]
          },
          "metadata": {
            "needs_background": "light"
          }
        }
      ]
    },
    {
      "cell_type": "code",
      "source": [
        "labels = '''airplane automobile bird cat deer dog frog horse ship truck'''.split()\n",
        " \n",
        "# select the image from our test dataset\n",
        "image_number = 33\n",
        " \n",
        "# display the image\n",
        "plt.imshow(x_test[image_number])\n",
        " \n",
        "# load the image in an array\n",
        "n = np.array(x_test[image_number])\n",
        " \n",
        "# reshape it\n",
        "p = n.reshape(1, 32, 32, 3)\n",
        " \n",
        "# pass in the network for prediction and\n",
        "# save the predicted label\n",
        "predicted_label = labels[model.predict(p).argmax()]\n",
        " \n",
        "# load the original label\n",
        "original_label = labels[y_test[image_number]]\n",
        " \n",
        "# display the result\n",
        "print(\"Original label is {} and predicted label is {}\".format(\n",
        "    original_label, predicted_label))"
      ],
      "metadata": {
        "colab": {
          "base_uri": "https://localhost:8080/",
          "height": 283
        },
        "id": "hf9zuffDxmwv",
        "outputId": "b15de76c-0e26-417f-a3fb-8dadde8d0ac2"
      },
      "execution_count": null,
      "outputs": [
        {
          "output_type": "stream",
          "name": "stdout",
          "text": [
            "Original label is dog and predicted label is dog\n"
          ]
        },
        {
          "output_type": "display_data",
          "data": {
            "image/png": "[encoded data removed]",
            "text/plain": [
              "<Figure size 432x288 with 1 Axes>"
            ]
          },
          "metadata": {
            "needs_background": "light"
          }
        }
      ]
    },
    {
      "cell_type": "code",
      "source": [
        "model.save('Cifar-10Model.h5')\n"
      ],
      "metadata": {
        "id": "14WqWt3cyVRh"
      },
      "execution_count": null,
      "outputs": []
    },
    {
      "cell_type": "code",
      "source": [
        ""
      ],
      "metadata": {
        "id": "N89fl9Wt-xg-"
      },
      "execution_count": null,
      "outputs": []
    }
  ]
}